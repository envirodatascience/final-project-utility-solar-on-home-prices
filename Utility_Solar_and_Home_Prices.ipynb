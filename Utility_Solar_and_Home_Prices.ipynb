{
  "cells": [
    {
      "cell_type": "markdown",
      "metadata": {
        "id": "view-in-github",
        "colab_type": "text"
      },
      "source": [
        "<a href=\"https://colab.research.google.com/github/envirodatascience/final-project-utility-solar-on-home-prices/blob/main/Utility_Solar_and_Home_Prices.ipynb\" target=\"_parent\"><img src=\"https://colab.research.google.com/assets/colab-badge.svg\" alt=\"Open In Colab\"/></a>"
      ]
    },
    {
      "cell_type": "markdown",
      "metadata": {
        "id": "1V4tvvTN-yrE"
      },
      "source": [
        "# Introduction\n",
        "\n",
        "As the United States moves towards decarbonizing the energy system, utility scale solar will become more widespread due to its affordability and production of minimal-to-zero emissions. The Solar Energy Industries Association finds that there are more than 37,000 megawatts of utility-scale solar projects in operation, with another 112,000 megawatts being developed.\n",
        "\n",
        "Given the growing prominence of utility scale solar, our group wanted to better understand the geographic context of the communities that they are sited near and explore utility scale solar's impacts on the housing market. We seek to answer the following question:\n",
        "\n",
        "***Does the existence of nearby (1 mile) utility scale solar impact property values at the neighborhood level?***\n",
        "\n",
        "To answer this question, we will use the following data:\n",
        "\n",
        "\n",
        "* *United States Large-Scale Solar Photovoltaic Database (USPVDB)*\n",
        "\n",
        "  This database contains information on the locations and boundaries of U.S. PV facilities with a capacity of 1 megawatt or greater.\n",
        "```\n",
        "  https://eerscmap.usgs.gov/uspvdb/assets/data/uspvdbSHP.zip\n",
        "```\n",
        "\n",
        "* *Zillow Home Value Index (ZHVI)*\n",
        "\n",
        "  This data presents the typical values for homes within the 65th to 95th percentile range for a given region. The data is smoothed and seasonally adjusted, and does not account for inflation.\n",
        "```\n",
        " https://files.zillowstatic.com/research/public_csvs/zhvi/Neighborhood_zhvi_uc_sfrcondo_tier_0.33_0.67_sm_sa_month.csv?t=1712011928\n",
        "```\n",
        "\n",
        "* *Neighborhood Boundaries*\n",
        "\n",
        " This data contains boundaries for 17,000 Zillow neighborhoods in the United States.\n",
        "```\n",
        " https://edg.epa.gov/data/PUBLIC/OEI/ZILLOW_NEIGHBORHOODS/Zillow_Neighborhoods.zip\n",
        "```\n",
        "\n",
        "* *United States Boundaries*\n",
        "\n",
        "  This data contains boundaries for all states in the United States.\n",
        "\n",
        "  ```\n",
        "  https://www2.census.gov/geo/tiger/GENZ2018/shp/cb_2018_us_state_20m.zip\n",
        "  ```\n",
        "\n",
        "\n"
      ]
    },
    {
      "cell_type": "markdown",
      "metadata": {
        "id": "Fq8rHQNgGXFI"
      },
      "source": [
        "# Part 1: Importing Packages"
      ]
    },
    {
      "cell_type": "code",
      "execution_count": null,
      "metadata": {
        "id": "q_tCdRw_GPn9"
      },
      "outputs": [],
      "source": [
        "# basics\n",
        "import pandas as pd\n",
        "import numpy as np\n",
        "\n",
        "# geo\n",
        "import geopandas as gpd\n",
        "from shapely.geometry import Polygon\n",
        "\n",
        "# plotting\n",
        "from plotnine import *\n",
        "import plotnine\n",
        "\n",
        "# misc\n",
        "from IPython.display import display\n",
        "pd.options.display.max_columns = None\n",
        "import statsmodels.api as sm\n",
        "import scipy.stats as stats"
      ]
    },
    {
      "cell_type": "markdown",
      "metadata": {
        "id": "_GANrMFLG1PP"
      },
      "source": [
        "# Part 2: Download and Unzip Data"
      ]
    },
    {
      "cell_type": "markdown",
      "metadata": {
        "id": "XrgumR3bG93O"
      },
      "source": [
        "## Part 2.1: United States Large-Scale Solar Photovoltaic Database (USPVDB)"
      ]
    },
    {
      "cell_type": "code",
      "execution_count": null,
      "metadata": {
        "id": "AJ3AjH6acvvB"
      },
      "outputs": [],
      "source": [
        "! wget https://eerscmap.usgs.gov/uspvdb/assets/data/uspvdbSHP.zip"
      ]
    },
    {
      "cell_type": "code",
      "execution_count": null,
      "metadata": {
        "id": "L5iffOdtHW4Y"
      },
      "outputs": [],
      "source": [
        "! ls"
      ]
    },
    {
      "cell_type": "code",
      "execution_count": null,
      "metadata": {
        "colab": {
          "base_uri": "https://localhost:8080/"
        },
        "id": "M0vgLXkuHbI7",
        "outputId": "95b78438-5e4b-4c43-a1cb-b6edde7a69a3"
      },
      "outputs": [
        {
          "metadata": {
            "tags": null
          },
          "name": "stdout",
          "output_type": "stream",
          "text": [
            "Archive:  uspvdbSHP.zip\n",
            "replace CHANGELOG.txt? [y]es, [n]o, [A]ll, [N]one, [r]ename: "
          ]
        }
      ],
      "source": [
        "! unzip uspvdbSHP.zip"
      ]
    },
    {
      "cell_type": "code",
      "execution_count": null,
      "metadata": {
        "id": "RRoegdpsHjBt"
      },
      "outputs": [],
      "source": [
        "! ls"
      ]
    },
    {
      "cell_type": "code",
      "execution_count": null,
      "metadata": {
        "id": "ps9p4DiGHmcQ"
      },
      "outputs": [],
      "source": [
        "solar = 'uspvdb_v1_0_20231108.shp'\n",
        "df_solar = gpd.read_file(solar)"
      ]
    },
    {
      "cell_type": "code",
      "execution_count": null,
      "metadata": {
        "id": "UiwGihPbIZ1r"
      },
      "outputs": [],
      "source": [
        "# Check to see if data was downloaded\n",
        "df_solar.head()"
      ]
    },
    {
      "cell_type": "markdown",
      "metadata": {
        "id": "G6hI2RNzH9pR"
      },
      "source": [
        "## Part 2.2: Zillow Home Value Index (ZHVI)"
      ]
    },
    {
      "cell_type": "code",
      "execution_count": null,
      "metadata": {
        "id": "NABvkd2bH5GO"
      },
      "outputs": [],
      "source": [
        "url = 'https://files.zillowstatic.com/research/public_csvs/zhvi/Neighborhood_zhvi_uc_sfrcondo_tier_0.33_0.67_sm_sa_month.csv?t=1712011928'\n",
        "df_homes = pd.read_csv(url)"
      ]
    },
    {
      "cell_type": "code",
      "execution_count": null,
      "metadata": {
        "id": "vVTyDwWsIT7i"
      },
      "outputs": [],
      "source": [
        "# Check to see if data was downloaded\n",
        "df_homes.head()"
      ]
    },
    {
      "cell_type": "markdown",
      "metadata": {
        "id": "UDDax7EzLQ3t"
      },
      "source": [
        "## Part 2.3: Neighborhood Boundaries"
      ]
    },
    {
      "cell_type": "code",
      "execution_count": null,
      "metadata": {
        "id": "Qt_oNM2VJBL9"
      },
      "outputs": [],
      "source": [
        "! wget https://edg.epa.gov/data/PUBLIC/OEI/ZILLOW_NEIGHBORHOODS/Zillow_Neighborhoods.zip"
      ]
    },
    {
      "cell_type": "code",
      "execution_count": null,
      "metadata": {
        "id": "i40TqhnULaOI"
      },
      "outputs": [],
      "source": [
        "! ls"
      ]
    },
    {
      "cell_type": "code",
      "execution_count": null,
      "metadata": {
        "id": "EvMgmmMiLcmp"
      },
      "outputs": [],
      "source": [
        "! unzip Zillow_Neighborhoods.zip"
      ]
    },
    {
      "cell_type": "code",
      "execution_count": null,
      "metadata": {
        "id": "Rt2gZHCbLfiv"
      },
      "outputs": [],
      "source": [
        "! ls"
      ]
    },
    {
      "cell_type": "code",
      "execution_count": null,
      "metadata": {
        "id": "mJJRQ-l7Lg5T"
      },
      "outputs": [],
      "source": [
        "neighborhoods = 'ZillowNeighborhoods.gdb'\n",
        "df_neighborhoods = gpd.read_file(neighborhoods)"
      ]
    },
    {
      "cell_type": "code",
      "execution_count": null,
      "metadata": {
        "id": "v09PviQiLw3H"
      },
      "outputs": [],
      "source": [
        "# Check if data downloaded\n",
        "df_neighborhoods.head()"
      ]
    },
    {
      "cell_type": "markdown",
      "metadata": {
        "id": "hf9P_jXjE8ad"
      },
      "source": [
        "## Part 2.4: United States Boundaries"
      ]
    },
    {
      "cell_type": "code",
      "execution_count": null,
      "metadata": {
        "id": "N97itF5jFAsY"
      },
      "outputs": [],
      "source": [
        "! wget https://www2.census.gov/geo/tiger/GENZ2018/shp/cb_2018_us_state_20m.zip"
      ]
    },
    {
      "cell_type": "code",
      "execution_count": null,
      "metadata": {
        "id": "jGN8Jag4FC0P"
      },
      "outputs": [],
      "source": [
        "! ls"
      ]
    },
    {
      "cell_type": "code",
      "execution_count": null,
      "metadata": {
        "id": "hbkzRK5TFD5f"
      },
      "outputs": [],
      "source": [
        "! unzip cb_2018_us_state_20m.zip"
      ]
    },
    {
      "cell_type": "code",
      "execution_count": null,
      "metadata": {
        "id": "Nfh47uWXFK7m"
      },
      "outputs": [],
      "source": [
        "! ls"
      ]
    },
    {
      "cell_type": "code",
      "execution_count": null,
      "metadata": {
        "id": "7bOyFlyuFMEe"
      },
      "outputs": [],
      "source": [
        "states = 'cb_2018_us_state_20m.shp'\n",
        "df_states = gpd.read_file(states)"
      ]
    },
    {
      "cell_type": "code",
      "execution_count": null,
      "metadata": {
        "id": "ueYPYQ3RFV3F"
      },
      "outputs": [],
      "source": [
        "# Check if data downloaded\n",
        "df_states.head(5)"
      ]
    },
    {
      "cell_type": "markdown",
      "metadata": {
        "id": "_bezikPJqTC9"
      },
      "source": [
        "# Part 3: Read and Analyze Data"
      ]
    },
    {
      "cell_type": "markdown",
      "metadata": {
        "id": "aMjdObOfrx31"
      },
      "source": [
        "## Part 3.1: Analyzing Solar PV Data\n",
        "\n",
        "Overview of the Section:\n",
        "*   How many counties are represented?\n",
        "*   How many states are represented\n",
        "* How big are the largest PVs, and where are they located?\n",
        "* Which states have the largest area of PVs?\n",
        "*  Are there any duplicates?\n",
        "* Preliminary plot\n",
        "\n"
      ]
    },
    {
      "cell_type": "code",
      "execution_count": null,
      "metadata": {
        "id": "vqGXJTLrL2g9"
      },
      "outputs": [],
      "source": [
        "df_solar.info()"
      ]
    },
    {
      "cell_type": "code",
      "execution_count": null,
      "metadata": {
        "id": "fPXLLEAtr8eo"
      },
      "outputs": [],
      "source": [
        "df_solar.describe()\n",
        "\n",
        "# The largest solar PV area represented by the data is 1.52 x 10^7 square meters, and the\n",
        "# smallest solar PV area represented is 1.56 x 10^3 square meters."
      ]
    },
    {
      "cell_type": "code",
      "execution_count": null,
      "metadata": {
        "id": "hWFoxekasMmN"
      },
      "outputs": [],
      "source": [
        "df_solar.head()"
      ]
    },
    {
      "cell_type": "markdown",
      "metadata": {
        "id": "zSqZw5FmvZfV"
      },
      "source": [
        "**How many counties are represented?**"
      ]
    },
    {
      "cell_type": "code",
      "execution_count": null,
      "metadata": {
        "id": "2amGEnmNssXj"
      },
      "outputs": [],
      "source": [
        "df_solar.p_county.nunique()"
      ]
    },
    {
      "cell_type": "code",
      "execution_count": null,
      "metadata": {
        "id": "6VCeO_ahsbi4"
      },
      "outputs": [],
      "source": [
        "df_solar.p_county.unique()"
      ]
    },
    {
      "cell_type": "code",
      "execution_count": null,
      "metadata": {
        "id": "h2-R2rJdv4A0"
      },
      "outputs": [],
      "source": [
        "df_solar.groupby('p_county').agg(n_obs = ('p_county', 'count')).sort_values(['n_obs'], ascending = False)\n",
        "\n",
        "# Worcester, Kern, and Los Angeles counties have the most recorded solar PVs"
      ]
    },
    {
      "cell_type": "markdown",
      "metadata": {
        "id": "9bcRT8KFve8X"
      },
      "source": [
        "**How many states are represented?**"
      ]
    },
    {
      "cell_type": "code",
      "execution_count": null,
      "metadata": {
        "id": "xvNiUdJisu2w"
      },
      "outputs": [],
      "source": [
        "df_solar.p_state.nunique()"
      ]
    },
    {
      "cell_type": "code",
      "execution_count": null,
      "metadata": {
        "id": "5ivSjwbRtGjM"
      },
      "outputs": [],
      "source": [
        "df_solar.p_state.unique()"
      ]
    },
    {
      "cell_type": "code",
      "execution_count": null,
      "metadata": {
        "id": "EPTCNhrAxylc"
      },
      "outputs": [],
      "source": [
        "df_solar.groupby('p_state').agg(n_obs = ('p_state', 'count')).sort_values(['n_obs'], ascending = False)\n",
        "\n",
        "# North Carolina, California, and Minnesota are the top three states\n",
        "# with the most solar PVs."
      ]
    },
    {
      "cell_type": "markdown",
      "metadata": {
        "id": "oFcAxzMBptus"
      },
      "source": [
        "**How big are the largest PVs, and where are they located?**"
      ]
    },
    {
      "cell_type": "code",
      "execution_count": null,
      "metadata": {
        "id": "kfwwHsttpsxs"
      },
      "outputs": [],
      "source": [
        "df_solar.sort_values('p_area', ascending = False).head(5)\n",
        "\n",
        "# The top five largest PVs represented by the data are in California and Texas."
      ]
    },
    {
      "cell_type": "markdown",
      "metadata": {
        "id": "Xwjxl5NUqBuy"
      },
      "source": [
        "**Which states have the largest area of PVs?**"
      ]
    },
    {
      "cell_type": "code",
      "execution_count": null,
      "metadata": {
        "id": "4uTsff4EqHSv"
      },
      "outputs": [],
      "source": [
        "df_solar.groupby('p_state').agg(total_area = ('p_area', 'sum')).sort_values('total_area', ascending = False).reset_index()\n",
        "\n",
        "# California, Texas, and North Carolina have the largest area of PVs."
      ]
    },
    {
      "cell_type": "markdown",
      "metadata": {
        "id": "d2pyy8Tevj4w"
      },
      "source": [
        "**Are there any duplicates in the data?**"
      ]
    },
    {
      "cell_type": "code",
      "execution_count": null,
      "metadata": {
        "id": "p5XlQD0pycdE"
      },
      "outputs": [],
      "source": [
        "df_solar[df_solar.duplicated()]"
      ]
    },
    {
      "cell_type": "markdown",
      "metadata": {
        "id": "PHvF6VacvoY8"
      },
      "source": [
        "Preliminary Plot"
      ]
    },
    {
      "cell_type": "code",
      "execution_count": null,
      "metadata": {
        "id": "5TkUcRUH2eNb"
      },
      "outputs": [],
      "source": [
        "df_solar.plot()"
      ]
    },
    {
      "cell_type": "markdown",
      "metadata": {
        "id": "PbZK3ZNzuYuh"
      },
      "source": [
        "## Part 3.2: Analyzing Home Value Data\n",
        "\n",
        "Overview of the Section:\n",
        "* What years does this data cover?\n",
        "*   How many counties are represented?\n",
        "* Where are the most expensive homes?\n",
        "*   How many states are represented\n",
        "*  Are there any duplicates?"
      ]
    },
    {
      "cell_type": "code",
      "execution_count": null,
      "metadata": {
        "id": "pJFC6srwtJGO"
      },
      "outputs": [],
      "source": [
        "df_homes.info()"
      ]
    },
    {
      "cell_type": "code",
      "execution_count": null,
      "metadata": {
        "id": "RD_Ss-MgueS7"
      },
      "outputs": [],
      "source": [
        "df_homes.head()"
      ]
    },
    {
      "cell_type": "code",
      "execution_count": null,
      "metadata": {
        "id": "qExKdaJ_zFB_"
      },
      "outputs": [],
      "source": [
        "df_homes.describe()"
      ]
    },
    {
      "cell_type": "markdown",
      "metadata": {
        "id": "eekUdvxHv66X"
      },
      "source": [
        "**How many counties are represented?**"
      ]
    },
    {
      "cell_type": "code",
      "execution_count": null,
      "metadata": {
        "id": "Jm67XfTo0A48"
      },
      "outputs": [],
      "source": [
        "df_homes.CountyName.nunique()"
      ]
    },
    {
      "cell_type": "code",
      "execution_count": null,
      "metadata": {
        "id": "KKVb38EX0KfX"
      },
      "outputs": [],
      "source": [
        "df_homes.CountyName.unique()"
      ]
    },
    {
      "cell_type": "code",
      "execution_count": null,
      "metadata": {
        "id": "xYzX2-7K0NxG"
      },
      "outputs": [],
      "source": [
        "df_homes.groupby('CountyName').agg(n_obs = ('CountyName', 'count')).sort_values(['n_obs'], ascending = False)\n",
        "\n",
        "# Maricopa, Tarrant, and Harris counties are the most represented by the data."
      ]
    },
    {
      "cell_type": "markdown",
      "metadata": {
        "id": "DPHOHcDNpeMe"
      },
      "source": [
        "**Where are the most expensive homes?**"
      ]
    },
    {
      "cell_type": "code",
      "execution_count": null,
      "metadata": {
        "id": "QFzbLs_ppdH7"
      },
      "outputs": [],
      "source": [
        "df_homes.groupby('CountyName').agg(mean_price = ('2024-01-31', 'mean')).reset_index().sort_values('mean_price', ascending = False)\n",
        "\n",
        "# Walton County, Santa Clara County, and Collier County have the most expensive home prices"
      ]
    },
    {
      "cell_type": "markdown",
      "metadata": {
        "id": "qxAhCkyKv-dy"
      },
      "source": [
        "**How many states are represented?**"
      ]
    },
    {
      "cell_type": "code",
      "execution_count": null,
      "metadata": {
        "id": "_Eijonky0nSq"
      },
      "outputs": [],
      "source": [
        "df_homes.State.nunique()"
      ]
    },
    {
      "cell_type": "code",
      "execution_count": null,
      "metadata": {
        "id": "ftuT2b0m1BjB"
      },
      "outputs": [],
      "source": [
        "df_homes.groupby('State').agg(n_obs = ('State', 'count')).sort_values(['n_obs'], ascending = False)\n",
        "\n",
        "# Texas, California, and Florida are the top three states represented by the data."
      ]
    },
    {
      "cell_type": "markdown",
      "metadata": {
        "id": "JUBpikFuwGvt"
      },
      "source": [
        "**Are there any duplicates in the data?**"
      ]
    },
    {
      "cell_type": "code",
      "execution_count": null,
      "metadata": {
        "id": "j8a0OGDm1R7X"
      },
      "outputs": [],
      "source": [
        "df_homes[df_homes.duplicated()]"
      ]
    },
    {
      "cell_type": "markdown",
      "metadata": {
        "id": "WuxF3iRH2_jY"
      },
      "source": [
        "## Part 3.3: Checking Neighborhood Data\n",
        "\n",
        "Overview of the Section:\n",
        "*   How many counties are represented?\n",
        "*   How many states are represented\n",
        "* Which states have the most surface area represented?\n",
        "*  Are there any duplicates?\n",
        "* Preliminary plot\n"
      ]
    },
    {
      "cell_type": "code",
      "execution_count": null,
      "metadata": {
        "id": "2IgzI8b81lQP"
      },
      "outputs": [],
      "source": [
        "df_neighborhoods.info()"
      ]
    },
    {
      "cell_type": "code",
      "execution_count": null,
      "metadata": {
        "id": "GmrV5ckl3uVU"
      },
      "outputs": [],
      "source": [
        "df_neighborhoods.describe()"
      ]
    },
    {
      "cell_type": "code",
      "execution_count": null,
      "metadata": {
        "id": "qcWfwldm32f-"
      },
      "outputs": [],
      "source": [
        "df_neighborhoods.head()"
      ]
    },
    {
      "cell_type": "markdown",
      "metadata": {
        "id": "RPFhoBF5weuO"
      },
      "source": [
        "**How many counties are represented?**"
      ]
    },
    {
      "cell_type": "code",
      "execution_count": null,
      "metadata": {
        "id": "UUjXduqz354S"
      },
      "outputs": [],
      "source": [
        "df_neighborhoods.County.nunique()"
      ]
    },
    {
      "cell_type": "code",
      "execution_count": null,
      "metadata": {
        "id": "ieFl6qLx4Pmi"
      },
      "outputs": [],
      "source": [
        "df_neighborhoods.County.unique()"
      ]
    },
    {
      "cell_type": "code",
      "execution_count": null,
      "metadata": {
        "id": "JfIyRQ2f4TGp"
      },
      "outputs": [],
      "source": [
        "df_neighborhoods.groupby('County').agg(n_obs = ('County', 'count')).sort_values(['n_obs'], ascending = False)\n",
        "\n",
        "# Davidson, Maricopa, and Bexar counties are the most represented in the data."
      ]
    },
    {
      "cell_type": "markdown",
      "metadata": {
        "id": "RtFH4xswwlXa"
      },
      "source": [
        "**How many states are represented?**"
      ]
    },
    {
      "cell_type": "code",
      "execution_count": null,
      "metadata": {
        "id": "FwtpwVpU4a3l"
      },
      "outputs": [],
      "source": [
        "df_neighborhoods.State.nunique()"
      ]
    },
    {
      "cell_type": "code",
      "execution_count": null,
      "metadata": {
        "id": "fWLTJqKt4oVG"
      },
      "outputs": [],
      "source": [
        "df_neighborhoods.State.unique()"
      ]
    },
    {
      "cell_type": "code",
      "execution_count": null,
      "metadata": {
        "id": "NL2_ohkI4q3z"
      },
      "outputs": [],
      "source": [
        "df_neighborhoods.groupby('State').agg(n_obs = ('State', 'count')).sort_values(['n_obs'], ascending = False)\n",
        "\n",
        "# California, Texas, and Florida are the top three states most represented by the data."
      ]
    },
    {
      "cell_type": "markdown",
      "metadata": {
        "id": "1BTIOTOJrQgg"
      },
      "source": [
        "**Which states have the most surface area represented?**"
      ]
    },
    {
      "cell_type": "code",
      "execution_count": null,
      "metadata": {
        "id": "0DUNkAMArT6c"
      },
      "outputs": [],
      "source": [
        "df_neighborhoods.groupby('State').agg(total_area = ('Shape_Area', 'sum')).sort_values('total_area', ascending = False).reset_index()\n",
        "\n",
        "# California, Arkansas, and Texas have the largest neighborhood areas in the data"
      ]
    },
    {
      "cell_type": "markdown",
      "metadata": {
        "id": "4HuP7rAUwz2Y"
      },
      "source": [
        "**Are there any duplicates in the data?**"
      ]
    },
    {
      "cell_type": "code",
      "execution_count": null,
      "metadata": {
        "id": "Qnesx6Ib4wgb"
      },
      "outputs": [],
      "source": [
        "df_neighborhoods[df_neighborhoods.duplicated()]"
      ]
    },
    {
      "cell_type": "markdown",
      "metadata": {
        "id": "kCIa789ow3b9"
      },
      "source": [
        "Preliminary Plot"
      ]
    },
    {
      "cell_type": "code",
      "execution_count": null,
      "metadata": {
        "id": "d6aOhGf449W0"
      },
      "outputs": [],
      "source": [
        "df_neighborhoods.plot()"
      ]
    },
    {
      "cell_type": "markdown",
      "metadata": {
        "id": "zwC7cuSXr1xU"
      },
      "source": [
        "# Part 4: Selecting Neighborhoods and Solar PV that Intersect"
      ]
    },
    {
      "cell_type": "markdown",
      "metadata": {
        "id": "crXl-n6OsKGF"
      },
      "source": [
        "## Part 4.1: Checking Coordinate Reference Systems"
      ]
    },
    {
      "cell_type": "code",
      "execution_count": null,
      "metadata": {
        "id": "XJ6PBjKsr5tP"
      },
      "outputs": [],
      "source": [
        "df_neighborhoods.crs"
      ]
    },
    {
      "cell_type": "code",
      "execution_count": null,
      "metadata": {
        "id": "MtjYAovBsQS_"
      },
      "outputs": [],
      "source": [
        "df_solar.crs"
      ]
    },
    {
      "cell_type": "code",
      "execution_count": null,
      "metadata": {
        "id": "HZ1CWk7SFkq8"
      },
      "outputs": [],
      "source": [
        "df_states.crs"
      ]
    },
    {
      "cell_type": "markdown",
      "metadata": {
        "id": "DvTA9I95sba0"
      },
      "source": [
        "## Part 4.2: Converting CRS"
      ]
    },
    {
      "cell_type": "code",
      "execution_count": null,
      "metadata": {
        "id": "7rJDFriXsbJp"
      },
      "outputs": [],
      "source": [
        "df_neighborhoods = df_neighborhoods.to_crs(\"ESRI:102003\")\n",
        "df_neighborhoods.crs"
      ]
    },
    {
      "cell_type": "code",
      "execution_count": null,
      "metadata": {
        "id": "-ySX-4ZQFoMW"
      },
      "outputs": [],
      "source": [
        "df_states = df_states.to_crs(\"ESRI:102003\")\n",
        "df_states.crs"
      ]
    },
    {
      "cell_type": "code",
      "execution_count": null,
      "metadata": {
        "id": "JKIHCxncImtu"
      },
      "outputs": [],
      "source": [
        "plotnine.options.figure_size = (15, 6)\n",
        "\n",
        "\n",
        "(ggplot()\n",
        " + geom_map (df_states, fill=\"none\", color = \"black\")\n",
        " + geom_map(df_solar, color='red')\n",
        " + geom_map(df_neighborhoods, color = 'blue')\n",
        " + theme_classic()\n",
        " + theme(axis_line=element_line(color=\"white\"),\n",
        "          axis_ticks=element_line(color = \"white\"),\n",
        "          axis_text=element_line(color='white'),\n",
        "          text=element_text(size = 12))\n",
        ")"
      ]
    },
    {
      "cell_type": "markdown",
      "metadata": {
        "id": "KYT4Rp1duKQm"
      },
      "source": [
        "## Part 4.3: Buffer Solar PVs\n",
        "\n",
        "In this section we will create a 1 mile buffer around the solar PVs. Any panel buffer and neighborhood that intersect will be utilized in our analysis, all others will be dropped out of the analysis.\n",
        "\n",
        "Since our coordinate system is displayed in meters, 1 mile is equal to 1609.34 meters. We will use this to specify the distance of our buffer."
      ]
    },
    {
      "cell_type": "code",
      "execution_count": null,
      "metadata": {
        "id": "XQuRwwzWJ6SJ"
      },
      "outputs": [],
      "source": [
        "df_solar_2 = df_solar"
      ]
    },
    {
      "cell_type": "code",
      "execution_count": null,
      "metadata": {
        "id": "f4pdihBMw6H3"
      },
      "outputs": [],
      "source": [
        "df_solar_2['buffer'] = df_solar_2.buffer(1609.34)"
      ]
    },
    {
      "cell_type": "code",
      "execution_count": null,
      "metadata": {
        "id": "ylFd2oTHyYQs"
      },
      "outputs": [],
      "source": [
        "df_solar_2.head()"
      ]
    },
    {
      "cell_type": "code",
      "execution_count": null,
      "metadata": {
        "id": "PURcfYR4yK4t"
      },
      "outputs": [],
      "source": [
        "df_buffer = df_solar_2[['buffer', 'case_id']].copy()\n",
        "df_buffer['geometry'] = df_buffer['buffer']\n",
        "df_buffer.head()"
      ]
    },
    {
      "cell_type": "code",
      "execution_count": null,
      "metadata": {
        "id": "00jZx01uxUGo"
      },
      "outputs": [],
      "source": [
        "plotnine.options.figure_size = (15, 6)\n",
        "\n",
        "\n",
        "(ggplot()\n",
        " + geom_map (df_states, fill=\"none\", color = \"black\")\n",
        " + geom_map(df_buffer, color='#112c5e')\n",
        " + geom_map(df_neighborhoods, color = 'red')\n",
        " + theme_classic()\n",
        " + theme(axis_line=element_line(color=\"white\"),\n",
        "          axis_ticks=element_line(color = \"white\"),\n",
        "          axis_text=element_line(color='white'),\n",
        "          text=element_text(size = 12))\n",
        ")"
      ]
    },
    {
      "cell_type": "markdown",
      "metadata": {
        "id": "4osPcFZG0doj"
      },
      "source": [
        "## Part 4.4: Selecting Solar PVs and Neighborhoods that Intersect"
      ]
    },
    {
      "cell_type": "code",
      "execution_count": null,
      "metadata": {
        "id": "ukSKyVzT0cNt"
      },
      "outputs": [],
      "source": [
        "df_join = gpd.sjoin(df_buffer, df_neighborhoods, how='inner', predicate='intersects')\n",
        "df_join.head()"
      ]
    },
    {
      "cell_type": "code",
      "execution_count": null,
      "metadata": {
        "id": "wCr7pKKz3uMk"
      },
      "outputs": [],
      "source": [
        "df_join.info()"
      ]
    },
    {
      "cell_type": "markdown",
      "metadata": {
        "id": "MJcv0One77uc"
      },
      "source": [
        "**Selecting Solar PVs that Intersect**"
      ]
    },
    {
      "cell_type": "code",
      "execution_count": null,
      "metadata": {
        "id": "Zsb_KAfL4l6P"
      },
      "outputs": [],
      "source": [
        "df_solar_select = df_solar[df_solar['case_id'].isin((df_join['case_id']))]\n",
        "df_solar_select.head(5)"
      ]
    },
    {
      "cell_type": "code",
      "execution_count": null,
      "metadata": {
        "id": "twZ2W_PK45S8"
      },
      "outputs": [],
      "source": [
        "df_solar_select.info()"
      ]
    },
    {
      "cell_type": "code",
      "execution_count": null,
      "metadata": {
        "id": "1YhXb2Zn5BII"
      },
      "outputs": [],
      "source": [
        "df_join['case_id'].nunique()\n",
        "\n",
        "# In the join table there were only 252 unique case_ids. This is why the resulting solar_select only has 252 rows.\n",
        "# This means that there are some solar PVs that overlap with multiple neighborhoods."
      ]
    },
    {
      "cell_type": "markdown",
      "metadata": {
        "id": "KG_xingk7-1B"
      },
      "source": [
        "**Selecting Neighborhoods that Intersect**"
      ]
    },
    {
      "cell_type": "code",
      "execution_count": null,
      "metadata": {
        "id": "vi6quPnm6_oE"
      },
      "outputs": [],
      "source": [
        "df_neigh_PV = df_neighborhoods[df_neighborhoods['RegionID'].isin((df_join['RegionID']))]\n",
        "df_neigh_PV.head(5)"
      ]
    },
    {
      "cell_type": "code",
      "execution_count": null,
      "metadata": {
        "id": "9BbLygyZ8SDM"
      },
      "outputs": [],
      "source": [
        "df_neigh_PV.info()"
      ]
    },
    {
      "cell_type": "code",
      "execution_count": null,
      "metadata": {
        "id": "4Xm-RNBq8Vkx"
      },
      "outputs": [],
      "source": [
        "df_join.RegionID.nunique()"
      ]
    },
    {
      "cell_type": "code",
      "execution_count": null,
      "metadata": {
        "id": "pX1E789h8a5Q"
      },
      "outputs": [],
      "source": [
        "df_neigh_PV.RegionID.nunique()"
      ]
    },
    {
      "cell_type": "markdown",
      "metadata": {
        "id": "fU8maDOYu8Qp"
      },
      "source": [
        "## Part 4.5: Selecting Neighborhoods without PV\n"
      ]
    },
    {
      "cell_type": "code",
      "execution_count": null,
      "metadata": {
        "id": "ov_OZOVeuEJj"
      },
      "outputs": [],
      "source": [
        "df_neigh_no_PV = df_neighborhoods[~df_neighborhoods['RegionID'].isin((df_join['RegionID']))]\n",
        "df_neigh_no_PV.head(5)"
      ]
    },
    {
      "cell_type": "markdown",
      "metadata": {
        "id": "MoBcJrnwvbT9"
      },
      "source": [
        "## Part 4.6: Preliminary Plots"
      ]
    },
    {
      "cell_type": "code",
      "execution_count": null,
      "metadata": {
        "id": "R9Ined-fUXnT"
      },
      "outputs": [],
      "source": [
        "# Figuring out which states have neighborhoods within 1 mile of solar PVs\n",
        "df_neigh_PV.State.nunique()"
      ]
    },
    {
      "cell_type": "code",
      "execution_count": null,
      "metadata": {
        "id": "ZEhiCR_RUBic"
      },
      "outputs": [],
      "source": [
        "df_neigh_PV.State.unique()"
      ]
    },
    {
      "cell_type": "code",
      "execution_count": null,
      "metadata": {
        "id": "yC0vvquCScLk"
      },
      "outputs": [],
      "source": [
        "# Removing Alaska, Hawaii, and Puerto Rico (no neighborhoods in proximity) to improve size of map\n",
        "\n",
        "df_contiguous = df_states[~((df_states.NAME == 'Hawaii') | (df_states.NAME == 'Puerto Rico') | (df_states.NAME == 'Alaska'))]"
      ]
    },
    {
      "cell_type": "code",
      "execution_count": null,
      "metadata": {
        "id": "lLrrVwLuvVId"
      },
      "outputs": [],
      "source": [
        "plotnine.options.figure_size = (18, 6)\n",
        "\n",
        "(ggplot()\n",
        " + geom_map (df_contiguous, fill=\"none\", color = \"black\")\n",
        " + geom_map(df_neigh_PV, color = 'orange')\n",
        " + geom_map(df_solar_select, color='#112c5e')\n",
        " + theme_classic()\n",
        " + theme(axis_line=element_line(color=\"white\"),\n",
        "          axis_ticks=element_line(color = \"white\"),\n",
        "          axis_text=element_line(color='white'),\n",
        "          text=element_text(size = 12))\n",
        " + ggtitle (\"Neighborhoods in Within 1 Mile Proximity to Solar Panels\")\n",
        ")"
      ]
    },
    {
      "cell_type": "code",
      "execution_count": null,
      "metadata": {
        "id": "Esq1uakDTUuS"
      },
      "outputs": [],
      "source": [
        "plotnine.options.figure_size = (15, 6)\n",
        "\n",
        "(ggplot()\n",
        " + geom_map (df_states, fill=\"none\", color = \"black\")\n",
        " + geom_map(df_neigh_no_PV, color = 'red')\n",
        " + geom_map(df_solar_select, color='#112c5e')\n",
        " + theme_classic()\n",
        " + theme(axis_line=element_line(color=\"white\"),\n",
        "          axis_ticks=element_line(color = \"white\"),\n",
        "          axis_text=element_line(color='white'),\n",
        "          text=element_text(size = 12))\n",
        " + ggtitle (\"Neighborhoods NOT Within 1 Mile Proximity to Solar Panels\")\n",
        ")"
      ]
    },
    {
      "cell_type": "code",
      "execution_count": null,
      "metadata": {
        "id": "snQWMl7ssaFW"
      },
      "outputs": [],
      "source": [
        "df_homes.head(5)"
      ]
    },
    {
      "cell_type": "markdown",
      "metadata": {
        "id": "4wRi-ZY9XUUn"
      },
      "source": [
        "# Part 5: Analyzing Changes in Home Prices"
      ]
    },
    {
      "cell_type": "markdown",
      "metadata": {
        "id": "V-vMJgAcK5CG"
      },
      "source": [
        "Check and confirm the DataFrame structure and date columns. Let's make sure we use a method to safely identify and work with the date columns:"
      ]
    },
    {
      "cell_type": "code",
      "execution_count": null,
      "metadata": {
        "id": "SlqSTq5vLAfl"
      },
      "outputs": [],
      "source": [
        "date_columns = [col for col in df_homes.columns if pd.to_datetime(col, errors='coerce') is not pd.NaT]"
      ]
    },
    {
      "cell_type": "markdown",
      "source": [
        "## 5.1: Three-year home value CAGR calculations"
      ],
      "metadata": {
        "id": "S3mffXpiMS4k"
      }
    },
    {
      "cell_type": "markdown",
      "source": [
        "We are using a 3-year compound annual growth rate (CAGR) as a metric to compare before and after growth rates for a given year. A 3-year period was chosen in order to capture delayed effects that might not be noticeable in just 1 or 2 years. Longer time period would both limit the availability of data points (since we are constrained by just having ~20 years of data) and could end up capturing other long term dynamic of the housing market. CAGR was chosen for ease of understanding the results (annualized rates are more common than 3-year % changes)\n"
      ],
      "metadata": {
        "id": "PAFVTL0xLlVN"
      }
    },
    {
      "cell_type": "markdown",
      "metadata": {
        "id": "4HWDP9g6K__b"
      },
      "source": [
        "Calculate CAGR for every 3-year period where applicable:"
      ]
    },
    {
      "cell_type": "code",
      "execution_count": null,
      "metadata": {
        "id": "jXA1ojIzcrAw"
      },
      "outputs": [],
      "source": [
        "for year in range(2001, 2022):\n",
        "    start_col = f\"{year}-12-31\"\n",
        "    end_col = f\"{year+3}-12-31\"\n",
        "\n",
        "    # Ensure columns are in the DataFrame before attempting to access them\n",
        "    if start_col in date_columns and end_col in date_columns:\n",
        "        # Calculate CAGR for the 3-year period:\n",
        "        # Make sure both columns contain numerical data by confirming their presence in date_columns\n",
        "        start_values = df_homes[start_col]\n",
        "        end_values = df_homes[end_col]\n",
        "\n",
        "        # Compute the CAGR:\n",
        "        df_homes[f'{year}-{year+3} CAGR'] = (end_values / start_values) ** (1/3) - 1"
      ]
    },
    {
      "cell_type": "markdown",
      "metadata": {
        "id": "gwiFG8MILFLV"
      },
      "source": [
        "Display the DataFrame to check new columns"
      ]
    },
    {
      "cell_type": "code",
      "execution_count": null,
      "metadata": {
        "id": "FCjnt2I0LH7r"
      },
      "outputs": [],
      "source": [
        "df_homes.head()"
      ]
    },
    {
      "cell_type": "markdown",
      "metadata": {
        "id": "PEyGLeHwLMiZ"
      },
      "source": [
        "Manual calculation for check"
      ]
    },
    {
      "cell_type": "code",
      "execution_count": null,
      "metadata": {
        "id": "PutoOuTAcuRz"
      },
      "outputs": [],
      "source": [
        "df_homes['2001-2004 CAGR v2'] = ( df_homes['2004-12-31'] / df_homes['2001-12-31'] )**(1/3) -1"
      ]
    },
    {
      "cell_type": "markdown",
      "metadata": {
        "id": "bSxO_QT4LPZa"
      },
      "source": [
        "Check that manual calculation and for loop match. False seems to come from rows with NaN values"
      ]
    },
    {
      "cell_type": "code",
      "execution_count": null,
      "metadata": {
        "id": "J-1pOS-0cwA9"
      },
      "outputs": [],
      "source": [
        "check = df_homes['2001-2004 CAGR v2'] == df_homes['2001-2004 CAGR']\n",
        "check.head(40)"
      ]
    },
    {
      "cell_type": "code",
      "execution_count": null,
      "metadata": {
        "id": "qgjlkiZ6cyf3"
      },
      "outputs": [],
      "source": [
        "df_homes.head(29)"
      ]
    },
    {
      "cell_type": "markdown",
      "metadata": {
        "id": "OmqyTjmlLZ3B"
      },
      "source": [
        "Here we have a check to see if the NaN were coming from an error in code or underlying data (seeing it it shows up in both the for look version and the manual calculation) Print the value using label index:"
      ]
    },
    {
      "cell_type": "code",
      "execution_count": null,
      "metadata": {
        "id": "bXuY8dvsc0DN"
      },
      "outputs": [],
      "source": [
        "value = df_homes.loc[28]['2001-2004 CAGR']\n",
        "print(\"Value in row 28 and column '2001-2004 CAGR':\", value)"
      ]
    },
    {
      "cell_type": "code",
      "execution_count": null,
      "metadata": {
        "id": "vS8KzXJMLeEH"
      },
      "outputs": [],
      "source": [
        "value = df_homes.loc[28]['2001-2004 CAGR v2']\n",
        "print(\"Value in row 28 and column '2001-2004 CAGR v2':\", value)"
      ]
    },
    {
      "cell_type": "markdown",
      "source": [
        "## 5.2: Year-on-year home value growth rate calculations"
      ],
      "metadata": {
        "id": "tu9IvOFHLzSx"
      }
    },
    {
      "cell_type": "markdown",
      "source": [
        "Here we calculate year-on-year growth rates for the difference-in-difference analysis. It makes more sense to look at annual changes one at a time (vs. changes in 3-year changes)  "
      ],
      "metadata": {
        "id": "YwCcS1QsMApG"
      }
    },
    {
      "cell_type": "code",
      "source": [
        "# Year-on-year growth rate for diff in diff calculaion\n",
        "# Calculate year-on-year for each year:\n",
        "for year in range(2001, 2022):\n",
        "    start_col = f\"{year}-12-31\"\n",
        "    end_col = f\"{year+1}-12-31\"\n",
        "\n",
        "    # Ensure columns are in the DataFrame before attempting to access them\n",
        "    if start_col in date_columns and end_col in date_columns:\n",
        "        # Calculate Y-o-Y growth rate for each each:\n",
        "        # Make sure both columns contain numerical data by confirming their presence in date_columns\n",
        "        start_values = df_homes[start_col]\n",
        "        end_values = df_homes[end_col]\n",
        "\n",
        "        # Compute the annual change as a %:\n",
        "        df_homes[f'{year}_YoY_change'] = (end_values / start_values) - 1\n",
        "\n",
        "# Display the DataFrame to check new columns\n",
        "df_homes.head()"
      ],
      "metadata": {
        "id": "6iYgVwqXMQCb"
      },
      "execution_count": null,
      "outputs": []
    },
    {
      "cell_type": "markdown",
      "metadata": {
        "id": "H4wMcUhTffZD"
      },
      "source": [
        "# Part 6: Evaluating the Impacts of Solar Development on Home Values over Time"
      ]
    },
    {
      "cell_type": "markdown",
      "metadata": {
        "id": "xGdlL58cLpM7"
      },
      "source": [
        "Here, we seek to evaluate how the 3-year period growth rates of home values differed between solar and non-solar neighborhoods over time."
      ]
    },
    {
      "cell_type": "markdown",
      "metadata": {
        "id": "Dd9capp1Og26"
      },
      "source": [
        "## Part 6.1: Determine Pre- and Post- CAGR For Solar Neighborhoods"
      ]
    },
    {
      "cell_type": "code",
      "execution_count": null,
      "metadata": {
        "id": "UXaGKc09LAV8"
      },
      "outputs": [],
      "source": [
        "# convert nominal neighborhood Region ID to string\n",
        "df_homes['RegionID'] = df_homes['RegionID'].astype('str')"
      ]
    },
    {
      "cell_type": "code",
      "execution_count": null,
      "metadata": {
        "id": "mCV6ZWwgdSo0"
      },
      "outputs": [],
      "source": [
        "# merge neighborhood CAGR and solar PV selection dataframes - this pairs each solar project with its intersecting neighborhood's yearly CAGR data\n",
        "df_join2 = df_join.merge(df_homes, on = 'RegionID', how = 'inner')\n",
        "df_solar_homes = df_join2.merge(df_solar_select, on = 'case_id', how = 'inner')"
      ]
    },
    {
      "cell_type": "code",
      "execution_count": null,
      "metadata": {
        "id": "c7wJyNWf6zLV"
      },
      "outputs": [],
      "source": [
        "# initialize empty dataframe\n",
        "df_solar_homes_cagr = pd.DataFrame()\n",
        "\n",
        "# for each year in the dataset, create a temporary dataframe containing only panels installed that year with its corresponding difference\n",
        "# in pre- and post- CAGR values\n",
        "for year in df_solar_homes['p_year'].unique():\n",
        "  try:\n",
        "    df_temp = df_solar_homes[df_solar_homes['p_year'] == year].copy()\n",
        "    df_temp['pre_CAGR'] = df_temp[f'{year-3}-{year} CAGR']\n",
        "    df_temp['post_CAGR'] = df_temp[f'{year}-{year+3} CAGR']\n",
        "    df_temp['diff_CAGR'] = df_temp['post_CAGR'] - df_temp['pre_CAGR']\n",
        "    df_temp['type'] = 'solar'\n",
        "    df_solar_homes_cagr = pd.concat([df_solar_homes_cagr, df_temp]) # concatenate yearly CAGR difference data to global dataframe\n",
        "  except:\n",
        "    pass\n",
        "\n",
        "df_solar_homes_cagr = df_solar_homes_cagr[['case_id', 'p_year', 'diff_CAGR', 'type']]"
      ]
    },
    {
      "cell_type": "markdown",
      "metadata": {
        "id": "hwLvd_T3OoLg"
      },
      "source": [
        "## Part 6.2: Determine Pre- and Post- CAGR For Non-Solar Neighborhoods"
      ]
    },
    {
      "cell_type": "code",
      "execution_count": null,
      "metadata": {
        "id": "6FnbTl_kPjsK"
      },
      "outputs": [],
      "source": [
        "# merge neighborhood CAGR and no-solar PV selection dataframes - this narrows down the neighborhood CAGR to only those without PV projects nearby\n",
        "df_no_solar_homes = df_neigh_no_PV.merge(df_homes, on = 'RegionID', how = 'inner')\n",
        "df_no_solar_homes.head(5)"
      ]
    },
    {
      "cell_type": "code",
      "execution_count": null,
      "metadata": {
        "id": "ugx7tnwrOnSw"
      },
      "outputs": [],
      "source": [
        "# initialize empty dataframe\n",
        "df_no_solar_homes_cagr = pd.DataFrame()\n",
        "\n",
        "# for each year, create a temporary dataframe containing difference in pre- and post- CAGR values for every region ID, for every year\n",
        "for year in range(2001, 2022):\n",
        "  try:\n",
        "    df_temp = df_no_solar_homes\n",
        "    df_temp['p_year'] = year\n",
        "    df_temp['pre_CAGR'] = df_temp[f'{year-3}-{year} CAGR']\n",
        "    df_temp['post_CAGR'] = df_temp[f'{year}-{year+3} CAGR']\n",
        "    df_temp['diff_CAGR'] = df_temp['post_CAGR'] - df_temp['pre_CAGR']\n",
        "    df_temp['type'] = 'no solar'\n",
        "    df_no_solar_homes_cagr = pd.concat([df_no_solar_homes_cagr, df_temp])\n",
        "  except:\n",
        "    pass\n",
        "\n",
        "df_no_solar_homes_cagr = df_no_solar_homes_cagr[['RegionID', 'p_year', 'diff_CAGR', 'type']]"
      ]
    },
    {
      "cell_type": "markdown",
      "metadata": {
        "id": "IC5l9XPFNimL"
      },
      "source": [
        "## Part 6.3: Statistical Analysis"
      ]
    },
    {
      "cell_type": "markdown",
      "source": [
        "This section seeks to evaluate the statistical distributions and values of the solar and non-solar CAGR distributions."
      ],
      "metadata": {
        "id": "7wKEDBrFc_PY"
      }
    },
    {
      "cell_type": "code",
      "execution_count": null,
      "metadata": {
        "id": "3cOJy-7tU0SR"
      },
      "outputs": [],
      "source": [
        "# combine the solar and non-solar CAGR data\n",
        "df_homes_cagr = pd.concat([df_solar_homes_cagr, df_no_solar_homes_cagr])"
      ]
    },
    {
      "cell_type": "code",
      "execution_count": null,
      "metadata": {
        "id": "5sDBZA3BDR_U"
      },
      "outputs": [],
      "source": [
        "# aggreate data to show average difference in CAGR per year, per solar presence; also show count of neighborhoods included in calculation\n",
        "df_homes_cagr.groupby(['p_year', 'type']).agg(avg_cagr = ('diff_CAGR', 'mean'),\n",
        "                                              n = ('p_year', 'count')).reset_index()"
      ]
    },
    {
      "cell_type": "code",
      "execution_count": null,
      "metadata": {
        "id": "_W1NQoqoEvAy"
      },
      "outputs": [],
      "source": [
        "#calcuate the t-statistic for each year's solar and non-solar CAGR difference values\n",
        "for year in df_homes_cagr['p_year'].unique():\n",
        "  solar = df_homes_cagr[(df_homes_cagr['p_year'] == year) & (df_homes_cagr['type'] == 'solar')]['diff_CAGR'].dropna()\n",
        "  non_solar = df_homes_cagr[(df_homes_cagr['p_year'] == year) & (df_homes_cagr['type'] == 'no solar')]['diff_CAGR'].dropna()\n",
        "  print(f'{year} statistics: {stats.ttest_ind(solar, non_solar)}')"
      ]
    },
    {
      "cell_type": "markdown",
      "metadata": {
        "id": "_v9L0rXcIKTf"
      },
      "source": [
        "For the years 2007, 2012, 2016, 2017, and 2020 (5/14 years) there was a statistically significant (P < 0.05) difference in the three-year CAGR for solar versus non-solar neighborhoods. This means in these years, home values in neighborhoods with nearby solar developments increased OR decreased at significantly different rates than those in non-solar adjacent neighborhoods."
      ]
    },
    {
      "cell_type": "markdown",
      "metadata": {
        "id": "jHw9OJsONvuz"
      },
      "source": [
        "## Part 6.4: Box-and-Whisker Plot"
      ]
    },
    {
      "cell_type": "code",
      "execution_count": null,
      "metadata": {
        "id": "oT8XvyhCX0FN"
      },
      "outputs": [],
      "source": [
        "# convert p_year to categorical for plotting purposes\n",
        "df_homes_cagr['p_year'] = pd.Categorical(df_homes_cagr['p_year'])\n",
        "\n",
        "# plot CAGR distribution boxplots, separated by year and solar presence\n",
        "(\n",
        "  ggplot(df_homes_cagr, aes(x=\"p_year\", y=\"diff_CAGR\", fill = 'type'))\n",
        "  + geom_boxplot()\n",
        "  + xlab(\"Year\")\n",
        "  + ylab(\"Difference in CAGR\")\n",
        "  + labs(fill = 'Neighborhood')\n",
        "  + ggtitle(\"Difference in Neighborhood Home Price CAGR - Aggregated by Presence of Nearby Solar\")\n",
        "    + theme(\n",
        "        axis_line=element_line(size=1, colour=\"black\"),\n",
        "        panel_grid_major=element_line(colour=\"#d3d3d3\"),\n",
        "        panel_grid_minor=element_blank(),\n",
        "        panel_border=element_blank(),\n",
        "        panel_background=element_blank(),\n",
        "    )\n",
        "    + scale_fill_manual(values=(\"red\", \"orange\"))\n",
        ")"
      ]
    },
    {
      "cell_type": "markdown",
      "source": [
        "This time series box plot graph shows how the CAGR distribution for solar and non-solar neighborhoods over time. Early in the series (2004-2009), the difference in CAGR were generally negative, meaning home prices were falling. This makes sense particularly for 2006, which takes into account the financial crisis of 2008-2009. In these years, the post-2006 three-year period (which incldues 2009) has a very negative CAGR; meanwhile the pre-2006 three-year period may have a normal/neutral CAGR value. As a result, the difference in CAGR for 2006 would be negative.\n",
        "\n",
        "Over the years, the database has an increasing number of solar developments, which is reflected in the appearance of solar-adjacent neighborhoods in the graph. Overall, there is an increasing trend in CAGR difference following the financial crisis.\n",
        "\n",
        "Averages of solar neighborhoods generally tended to be higher than the non-solar neighborhoods, but not by too much. Between neighborhood types, averages are very similar, with averages falling within the 25-75th percentiles of each other. While the t-tests showed statistically significant differences in a few of these years, visually the difference is not large relative to the entire plot."
      ],
      "metadata": {
        "id": "IRzTtN40Y3CN"
      }
    },
    {
      "cell_type": "markdown",
      "metadata": {
        "id": "jAKCHjAjcPdg"
      },
      "source": [
        "\n",
        "# Part 7: Graphing the Impact of Solar Development on Home Values over Time: Difference-in-Difference\n",
        "\n"
      ]
    },
    {
      "cell_type": "markdown",
      "metadata": {
        "id": "HhcKVY9vfRll"
      },
      "source": [
        "**Overview of the Section:**\n",
        "\n",
        "Find average AGR for all neighborhoods within 1 mile of a solar development project for the 3 years preceeding and post treatment (Solar Development Installation), for the 3 years of highest development (2014, 2017, and 2018)\n",
        "\n",
        "Find average AGR for all neighborhoods ***not*** within 1 mile of a solar development project for the 3 years preceeding and post the 3 years of highest development (2014, 2017, and 2018). This will be our non-treatment group.\n",
        "\n",
        "Plot these data points, and analyze any difference-in-differences between the two data points (Solar Developed and Solar not-Developed) pre- and post- installation for between 2010-2018."
      ]
    },
    {
      "cell_type": "markdown",
      "metadata": {
        "id": "zleucAYfhjcx"
      },
      "source": [
        "## Part 7.1 Isolating solar development projects by year"
      ]
    },
    {
      "cell_type": "code",
      "execution_count": null,
      "metadata": {
        "id": "oZLsVE17hXhZ"
      },
      "outputs": [],
      "source": [
        "# df_solar_select (All the Solar Development Projects Built within 1 mile of a Neighborhood on Zillow)\n",
        "  # df_solar_select_2014 (All the Solar Development Projects Built within 1 mile of a Neighborhood on Zillow in 2014)\n",
        "  # df_solar_select_2017 (All the Solar Development Projects Built within 1 mile of a Neighborhood on Zillow in 2017)\n",
        "  # df_solar_select_2018 (All the Solar Development Projects Built within 1 mile of a Neighborhood on Zillow in 2018)\n",
        "\n",
        "# df_no_solar_homes (All Neighborhoods not within 1 mile of a Solar Development Project)\n"
      ]
    },
    {
      "cell_type": "code",
      "execution_count": null,
      "metadata": {
        "id": "JoJl8NIEYj2h"
      },
      "outputs": [],
      "source": [
        "df_solar_homes[\"p_year\"].value_counts()\n",
        "#.value_counts is used here to see what the expected number of values and which years will have a statistically robust enough sample.\n",
        "#from this filtering we can see that prior to 2010, there were very few eligible neighborhoods, so (2009, 2008, and 2007 will be removed from the sample, 2019, 2020, and 2021 will also\n",
        "#be removed as we only have YoY data that is complete through 2021, and thus would have incomplete post-installation data for these three years)"
      ]
    },
    {
      "cell_type": "code",
      "source": [
        "# create individual call codes filtering for each of the years for use later in the process\n",
        "df_solar_select_2010 = df_solar_homes[df_solar_homes['p_year'] == 2010]\n",
        "df_solar_select_2011 = df_solar_homes[df_solar_homes['p_year'] == 2011]\n",
        "df_solar_select_2012 = df_solar_homes[df_solar_homes['p_year'] == 2012]\n",
        "df_solar_select_2013 = df_solar_homes[df_solar_homes['p_year'] == 2013]\n",
        "df_solar_select_2014 = df_solar_homes[df_solar_homes['p_year'] == 2014]\n",
        "df_solar_select_2015 = df_solar_homes[df_solar_homes['p_year'] == 2015]\n",
        "df_solar_select_2016 = df_solar_homes[df_solar_homes['p_year'] == 2016]\n",
        "df_solar_select_2017 = df_solar_homes[df_solar_homes['p_year'] == 2017]\n",
        "df_solar_select_2018 = df_solar_homes[df_solar_homes['p_year'] == 2018]"
      ],
      "metadata": {
        "id": "BodPt7vWtWHf"
      },
      "execution_count": null,
      "outputs": []
    },
    {
      "cell_type": "markdown",
      "source": [
        "## Part 7.2 Create new data frame with the mean Year over Year growth rate for the three years pre and post solar project development.      "
      ],
      "metadata": {
        "id": "gRC0tufCuqwn"
      }
    },
    {
      "cell_type": "code",
      "source": [
        "# Use .mean to find the mean of each of the YoY Growth Rates\n",
        "# Create new Data Frame that has these stats for each of the 6 years (3 prior, 3 post)\n"
      ],
      "metadata": {
        "id": "On4vaAostXOy"
      },
      "execution_count": null,
      "outputs": []
    },
    {
      "cell_type": "code",
      "source": [
        "#Solar Homes: YoY\n",
        "\n",
        "#2010\n",
        "dd_agr_2k10 = [\"2007_YoY_change\",\"2008_YoY_change\",\"2009_YoY_change\",\"2010_YoY_change\",\"2011_YoY_change\",\"2012_YoY_change\",\"2013_YoY_change\"]\n",
        "df_dd_agr_2k10 = df_solar_select_2010[dd_agr_2k10].mean()\n",
        "\n",
        "#2011\n",
        "dd_agr_2k11 = [\"2008_YoY_change\",\"2009_YoY_change\",\"2010_YoY_change\",\"2011_YoY_change\",\"2012_YoY_change\",\"2013_YoY_change\",\"2014_YoY_change\"]\n",
        "df_dd_agr_2k11 = df_solar_select_2011[dd_agr_2k11].mean()\n",
        "\n",
        "#2012\n",
        "dd_agr_2k12 = [\"2009_YoY_change\",\"2010_YoY_change\",\"2011_YoY_change\",\"2012_YoY_change\",\"2013_YoY_change\",\"2014_YoY_change\",\"2015_YoY_change\"]\n",
        "df_dd_agr_2k12 = df_solar_select_2012[dd_agr_2k12].mean()\n",
        "\n",
        "#2013\n",
        "dd_agr_2k13 = [\"2010_YoY_change\",\"2011_YoY_change\",\"2012_YoY_change\",\"2013_YoY_change\",\"2014_YoY_change\",\"2015_YoY_change\",\"2016_YoY_change\"]\n",
        "df_dd_agr_2k13 = df_solar_select_2013[dd_agr_2k13].mean()\n",
        "\n",
        "#2014\n",
        "dd_agr_2k14 = [\"2011_YoY_change\",\"2012_YoY_change\",\"2013_YoY_change\",\"2014_YoY_change\",\"2015_YoY_change\",\"2016_YoY_change\",\"2017_YoY_change\"]\n",
        "df_dd_agr_2k14 = df_solar_select_2014[dd_agr_2k14].mean()\n",
        "\n",
        "#2015\n",
        "dd_agr_2k15 = [\"2012_YoY_change\",\"2013_YoY_change\",\"2014_YoY_change\",\"2015_YoY_change\",\"2016_YoY_change\",\"2017_YoY_change\",\"2018_YoY_change\"]\n",
        "df_dd_agr_2k15 = df_solar_select_2015[dd_agr_2k15].mean()\n",
        "\n",
        "#2016\n",
        "dd_agr_2k16 = [\"2013_YoY_change\",\"2014_YoY_change\",\"2015_YoY_change\",\"2016_YoY_change\",\"2017_YoY_change\",\"2018_YoY_change\",\"2019_YoY_change\"]\n",
        "df_dd_agr_2k16 = df_solar_select_2016[dd_agr_2k16].mean()\n",
        "\n",
        "#2017\n",
        "dd_agr_2k17 = [\"2014_YoY_change\",\"2015_YoY_change\",\"2016_YoY_change\",\"2017_YoY_change\",\"2018_YoY_change\",\"2019_YoY_change\",\"2020_YoY_change\"]\n",
        "df_dd_agr_2k17= df_solar_select_2017[dd_agr_2k17].mean()\n",
        "\n",
        "#2018\n",
        "dd_agr_2k18 = [\"2015_YoY_change\",\"2016_YoY_change\",\"2017_YoY_change\",\"2018_YoY_change\",\"2019_YoY_change\",\"2020_YoY_change\",\"2021_YoY_change\"]\n",
        "df_dd_agr_2k18 = df_solar_select_2018[dd_agr_2k18].mean()\n"
      ],
      "metadata": {
        "id": "rqv2_oA8uzWH"
      },
      "execution_count": null,
      "outputs": []
    },
    {
      "cell_type": "code",
      "source": [
        "# No Solar Homes\n",
        "\n",
        "#2010\n",
        "dd_nosolar2k10 = [\"2007_YoY_change\",\"2008_YoY_change\",\"2009_YoY_change\",\"2010_YoY_change\",\"2011_YoY_change\",\"2012_YoY_change\",\"2013_YoY_change\"]\n",
        "df_dd_nosolar2k10 =  df_no_solar_homes[dd_nosolar2k10].mean()\n",
        "\n",
        "#2011\n",
        "dd_nosolar2k11 = [\"2008_YoY_change\",\"2009_YoY_change\",\"2010_YoY_change\",\"2011_YoY_change\",\"2012_YoY_change\",\"2013_YoY_change\",\"2014_YoY_change\"]\n",
        "df_dd_nosolar2k11 = df_no_solar_homes[dd_nosolar2k11].mean()\n",
        "\n",
        "#2012\n",
        "dd_nosolar2k12 = [\"2009_YoY_change\",\"2010_YoY_change\",\"2011_YoY_change\",\"2012_YoY_change\",\"2013_YoY_change\",\"2014_YoY_change\",\"2015_YoY_change\"]\n",
        "df_dd_nosolar2k12 = df_no_solar_homes[dd_nosolar2k12].mean()\n",
        "\n",
        "#2013\n",
        "dd_nosolar2k13 = [\"2010_YoY_change\",\"2011_YoY_change\",\"2012_YoY_change\",\"2013_YoY_change\",\"2014_YoY_change\",\"2015_YoY_change\",\"2016_YoY_change\"]\n",
        "df_dd_nosolar2k13 = df_no_solar_homes[dd_nosolar2k13].mean()\n",
        "\n",
        "#2014\n",
        "dd_nosolar2k14 = [\"2011_YoY_change\",\"2012_YoY_change\",\"2013_YoY_change\",\"2014_YoY_change\",\"2015_YoY_change\",\"2016_YoY_change\",\"2017_YoY_change\"]\n",
        "df_dd_nosolar2k14 = df_no_solar_homes[dd_nosolar2k14].mean()\n",
        "\n",
        "#2015\n",
        "dd_nosolar2k15 = [\"2012_YoY_change\",\"2013_YoY_change\",\"2014_YoY_change\",\"2015_YoY_change\",\"2016_YoY_change\",\"2017_YoY_change\",\"2018_YoY_change\"]\n",
        "df_dd_nosolar2k15 = df_no_solar_homes[dd_nosolar2k15].mean()\n",
        "\n",
        "#2016\n",
        "dd_nosolar2k16 = [\"2013_YoY_change\",\"2014_YoY_change\",\"2015_YoY_change\",\"2016_YoY_change\",\"2017_YoY_change\",\"2018_YoY_change\",\"2019_YoY_change\"]\n",
        "df_dd_nosolar2k16 = df_no_solar_homes[dd_nosolar2k16].mean()\n",
        "\n",
        "#2017\n",
        "dd_nosolar2k17 = [\"2014_YoY_change\",\"2015_YoY_change\",\"2016_YoY_change\",\"2017_YoY_change\",\"2018_YoY_change\",\"2019_YoY_change\",\"2020_YoY_change\"]\n",
        "df_dd_nosolar2k17= df_no_solar_homes[dd_nosolar2k17].mean()\n",
        "\n",
        "#2018\n",
        "dd_nosolar2k18 = [\"2015_YoY_change\",\"2016_YoY_change\",\"2017_YoY_change\",\"2018_YoY_change\",\"2019_YoY_change\",\"2020_YoY_change\",\"2021_YoY_change\"]\n",
        "df_dd_nosolar2k18 = df_no_solar_homes[dd_nosolar2k18].mean()\n"
      ],
      "metadata": {
        "id": "ADatPbPiu5Zs"
      },
      "execution_count": null,
      "outputs": []
    },
    {
      "cell_type": "code",
      "source": [
        "# Now for each of the parsed out data frames for the different years,\n",
        "#we will add a column that has the average for each of\n",
        "#the three years preceeding and post target date of the \"treatment\" (p_year), and make this into a new merged and melted data frame ready for graphing"
      ],
      "metadata": {
        "id": "kGVurWB_umys"
      },
      "execution_count": null,
      "outputs": []
    },
    {
      "cell_type": "code",
      "source": [
        "#combine these data points into a single dataframe, along with the year for easiest graphing, data tidiness, and ensuring the legend shows up properly.\n",
        "#2010\n",
        "NoSolar2k10 = pd.DataFrame(list(df_dd_nosolar2k10.items()), columns = ['Year', \"No_Solar_AGR\"])\n",
        "Solar2k10 = pd.DataFrame(list(df_dd_agr_2k10.items()), columns = ['Year', \"Solar_AGR\"])\n",
        "df_2k10 = pd.merge(NoSolar2k10, Solar2k10, on= \"Year\" , how= \"outer\")\n",
        "df_2k10[\"Year\"] = df_2k10[\"Year\"].str.replace(\"_YoY_change\", \"\")\n",
        "df_2k10['Year'] = pd.to_numeric(df_2k10[\"Year\"])\n",
        "\n",
        "#2011\n",
        "NoSolar2k11 = pd.DataFrame(list(df_dd_nosolar2k11.items()), columns = ['Year', \"No_Solar_AGR\"])\n",
        "Solar2k11 = pd.DataFrame(list(df_dd_agr_2k11.items()), columns = ['Year', \"Solar_AGR\"])\n",
        "df_2k11 = pd.merge(NoSolar2k11, Solar2k11, on= \"Year\" , how= \"outer\")\n",
        "df_2k11[\"Year\"] = df_2k11[\"Year\"].str.replace(\"_YoY_change\", \"\")\n",
        "df_2k11['Year'] = pd.to_numeric(df_2k11[\"Year\"])\n",
        "\n",
        "#2012\n",
        "NoSolar2k12 = pd.DataFrame(list(df_dd_nosolar2k12.items()), columns = ['Year', \"No_Solar_AGR\"])\n",
        "Solar2k12 = pd.DataFrame(list(df_dd_agr_2k12.items()), columns = ['Year', \"Solar_AGR\"])\n",
        "df_2k12 = pd.merge(NoSolar2k12, Solar2k12, on= \"Year\" , how= \"outer\")\n",
        "df_2k12[\"Year\"] = df_2k12[\"Year\"].str.replace(\"_YoY_change\", \"\")\n",
        "df_2k12['Year'] = pd.to_numeric(df_2k12[\"Year\"])\n",
        "\n",
        "#2013\n",
        "NoSolar2k13 = pd.DataFrame(list(df_dd_nosolar2k13.items()), columns = ['Year', \"No_Solar_AGR\"])\n",
        "Solar2k13 = pd.DataFrame(list(df_dd_agr_2k13.items()), columns = ['Year', \"Solar_AGR\"])\n",
        "df_2k13 = pd.merge(NoSolar2k13, Solar2k13, on= \"Year\" , how= \"outer\")\n",
        "df_2k13[\"Year\"] = df_2k13[\"Year\"].str.replace(\"_YoY_change\", \"\")\n",
        "df_2k13['Year'] = pd.to_numeric(df_2k13[\"Year\"])\n",
        "\n",
        "#2014\n",
        "NoSolar2k14 = pd.DataFrame(list(df_dd_nosolar2k14.items()), columns = ['Year', \"No_Solar_AGR\"])\n",
        "Solar2k14 = pd.DataFrame(list(df_dd_agr_2k14.items()), columns = ['Year', \"Solar_AGR\"])\n",
        "df_2k14 = pd.merge(NoSolar2k14, Solar2k14, on= \"Year\" , how= \"outer\")\n",
        "df_2k14[\"Year\"] = df_2k14[\"Year\"].str.replace(\"_YoY_change\", \"\")\n",
        "df_2k14['Year'] = pd.to_numeric(df_2k14[\"Year\"])\n",
        "\n",
        "#2015\n",
        "NoSolar2k15 = pd.DataFrame(list(df_dd_nosolar2k15.items()), columns = ['Year', \"No_Solar_AGR\"])\n",
        "Solar2k15 = pd.DataFrame(list(df_dd_agr_2k15.items()), columns = ['Year', \"Solar_AGR\"])\n",
        "df_2k15 = pd.merge(NoSolar2k15, Solar2k15, on= \"Year\" , how= \"outer\")\n",
        "df_2k15[\"Year\"] = df_2k15[\"Year\"].str.replace(\"_YoY_change\", \"\")\n",
        "df_2k15['Year'] = pd.to_numeric(df_2k15[\"Year\"])\n",
        "\n",
        "#2016\n",
        "NoSolar2k16 = pd.DataFrame(list(df_dd_nosolar2k16.items()), columns = ['Year', \"No_Solar_AGR\"])\n",
        "Solar2k16 = pd.DataFrame(list(df_dd_agr_2k16.items()), columns = ['Year', \"Solar_AGR\"])\n",
        "df_2k16 = pd.merge(NoSolar2k16, Solar2k16, on= \"Year\" , how= \"outer\")\n",
        "df_2k16[\"Year\"] = df_2k16[\"Year\"].str.replace(\"_YoY_change\", \"\")\n",
        "df_2k16['Year'] = pd.to_numeric(df_2k16[\"Year\"])\n",
        "\n",
        "#2017\n",
        "NoSolar2k17 = pd.DataFrame(list(df_dd_nosolar2k17.items()), columns = ['Year', \"No_Solar_AGR\"])\n",
        "Solar2k17 = pd.DataFrame(list(df_dd_agr_2k17.items()), columns = ['Year', \"Solar_AGR\"])\n",
        "df_2k17 = pd.merge(NoSolar2k18, Solar2k18, on= \"Year\" , how= \"outer\")\n",
        "df_2k17[\"Year\"] = df_2k17[\"Year\"].str.replace(\"_YoY_change\", \"\")\n",
        "df_2k17['Year'] = pd.to_numeric(df_2k17[\"Year\"])\n",
        "\n",
        "#2018\n",
        "\n",
        "NoSolar2k18 = pd.DataFrame(list(df_dd_nosolar2k18.items()), columns = ['Year', \"No_Solar_AGR\"])\n",
        "Solar2k18 = pd.DataFrame(list(df_dd_agr_2k18.items()), columns = ['Year', \"Solar_AGR\"])\n",
        "df_2k18 = pd.merge(NoSolar2k18, Solar2k18, on= \"Year\" , how= \"outer\")\n",
        "df_2k18[\"Year\"] = df_2k18[\"Year\"].str.replace(\"_YoY_change\", \"\")\n",
        "df_2k18['Year'] = pd.to_numeric(df_2k18[\"Year\"])\n"
      ],
      "metadata": {
        "id": "cs4zTtBwu_ni"
      },
      "execution_count": null,
      "outputs": []
    },
    {
      "cell_type": "code",
      "source": [
        "#melt the data frames such that they are able to be graphed utilizing the aes feature\n",
        "\n",
        "df_2k10melt = df_2k10.melt(id_vars=['Year'], value_vars=['Solar_AGR','No_Solar_AGR'], var_name='aes', value_name='AGR')\n",
        "df_2k11melt = df_2k11.melt(id_vars=['Year'], value_vars=['Solar_AGR','No_Solar_AGR'], var_name='aes', value_name='AGR')\n",
        "df_2k12melt = df_2k12.melt(id_vars=['Year'], value_vars=['Solar_AGR','No_Solar_AGR'], var_name='aes', value_name='AGR')\n",
        "df_2k13melt = df_2k13.melt(id_vars=['Year'], value_vars=['Solar_AGR','No_Solar_AGR'], var_name='aes', value_name='AGR')\n",
        "df_2k14melt = df_2k14.melt(id_vars=['Year'], value_vars=['Solar_AGR','No_Solar_AGR'], var_name='aes', value_name='AGR')\n",
        "df_2k15melt = df_2k15.melt(id_vars=['Year'], value_vars=['Solar_AGR','No_Solar_AGR'], var_name='aes', value_name='AGR')\n",
        "df_2k16melt = df_2k16.melt(id_vars=['Year'], value_vars=['Solar_AGR','No_Solar_AGR'], var_name='aes', value_name='AGR')\n",
        "df_2k17melt = df_2k17.melt(id_vars=['Year'], value_vars=['Solar_AGR','No_Solar_AGR'], var_name='aes', value_name='AGR')\n",
        "df_2k18melt = df_2k18.melt(id_vars=['Year'], value_vars=['Solar_AGR','No_Solar_AGR'], var_name='aes', value_name='AGR')"
      ],
      "metadata": {
        "id": "uScmZwMqvC9n"
      },
      "execution_count": null,
      "outputs": []
    },
    {
      "cell_type": "markdown",
      "source": [
        "## 7.3 Plotting Results (Difference-in-Difference Graphs)"
      ],
      "metadata": {
        "id": "5zZvL0zRvGN1"
      }
    },
    {
      "cell_type": "code",
      "source": [
        "# Use plotnine graphing package (ggplot) to plot a multiple line graph that plots the data from the dataframes created in subsections 7.2\n",
        "# add a dashed vertical line at the \"treatement date\" (Date of Project Implementation)"
      ],
      "metadata": {
        "id": "ydHLIwnavJ0l"
      },
      "execution_count": null,
      "outputs": []
    },
    {
      "cell_type": "code",
      "source": [
        "#2010\n",
        "(\n",
        "ggplot () +\n",
        "  geom_line(df_2k10melt, aes(x=\"Year\", y=\"AGR\", color=\"aes\")) # AES variable set to the merged category column (Solar/Non-Solar)\n",
        "\n",
        " + geom_vline (xintercept=2010, linetype=\"dashed\") # Add Project Date Line\n",
        "\n",
        "    +scale_color_manual(values = {\"No_Solar_AGR\" : \"red\", \"Solar_AGR\" : \"orange\"})  # Define colors\n",
        "\n",
        "+ xlab(\"Year\")\n",
        "  + ylab(\"Annual Growth Rate (Year over Year %)\")\n",
        "    + labs(color = 'Solar Construction')\n",
        "\n",
        "    + ggtitle(\"Difference in Difference - Average AGR for Solar Projects Constructed in 2010, Compared to Non-Solar Proximate Home AGR's\")\n",
        "   + theme(\n",
        "        axis_line=element_line(size=1, colour=\"black\"),\n",
        "        panel_grid_major=element_line(colour=\"#d3d3d3\"),\n",
        "        panel_grid_minor=element_blank(),\n",
        "        panel_border=element_blank(),\n",
        "        panel_background=element_blank(),)\n",
        "    )"
      ],
      "metadata": {
        "id": "NMldEycXvWot"
      },
      "execution_count": null,
      "outputs": []
    },
    {
      "cell_type": "code",
      "source": [
        "#2011\n",
        "(\n",
        "ggplot () +\n",
        "  geom_line(df_2k11melt, aes(x=\"Year\", y=\"AGR\", color=\"aes\")) # AES variable set to the merged category column (Solar/Non-Solar)\n",
        "\n",
        " + geom_vline (xintercept=2011, linetype=\"dashed\") # Add Project Date Line\n",
        "\n",
        "    +scale_color_manual(values = {\"No_Solar_AGR\" : \"red\", \"Solar_AGR\" : \"orange\"})  # Define colors\n",
        "\n",
        "+ xlab(\"Year\")\n",
        "  + ylab(\"Annual Growth Rate (Year over Year %)\")\n",
        "    + labs(color = 'Solar Construction')\n",
        "\n",
        "    + ggtitle(\"Difference in Difference - Average AGR for Solar Projects Constructed in 2011, Compared to Non-Solar Proximate Home AGR's\")\n",
        "   + theme(\n",
        "        axis_line=element_line(size=1, colour=\"black\"),\n",
        "        panel_grid_major=element_line(colour=\"#d3d3d3\"),\n",
        "        panel_grid_minor=element_blank(),\n",
        "        panel_border=element_blank(),\n",
        "        panel_background=element_blank(),)\n",
        "    )"
      ],
      "metadata": {
        "id": "ElmtwdpovaYc"
      },
      "execution_count": null,
      "outputs": []
    },
    {
      "cell_type": "code",
      "source": [
        "#2012\n",
        "(\n",
        "ggplot () +\n",
        "  geom_line(df_2k12melt, aes(x=\"Year\", y=\"AGR\", color=\"aes\")) # AES variable set to the merged category column (Solar/Non-Solar)\n",
        "\n",
        " + geom_vline (xintercept=2012, linetype=\"dashed\") # Add Project Date Line\n",
        "\n",
        "    +scale_color_manual(values = {\"No_Solar_AGR\" : \"red\", \"Solar_AGR\" : \"orange\"})  # Define colors\n",
        "\n",
        "+ xlab(\"Year\")\n",
        "  + ylab(\"Annual Growth Rate (Year over Year %)\")\n",
        "    + labs(color = 'Solar Construction')\n",
        "\n",
        "    + ggtitle(\"Difference in Difference - Average AGR for Solar Projects Constructed in 2012, Compared to Non-Solar Proximate Home AGR's\")\n",
        "   + theme(\n",
        "        axis_line=element_line(size=1, colour=\"black\"),\n",
        "        panel_grid_major=element_line(colour=\"#d3d3d3\"),\n",
        "        panel_grid_minor=element_blank(),\n",
        "        panel_border=element_blank(),\n",
        "        panel_background=element_blank(),)\n",
        "    )"
      ],
      "metadata": {
        "id": "Qr5NKERKvdX_"
      },
      "execution_count": null,
      "outputs": []
    },
    {
      "cell_type": "code",
      "source": [
        "#2013\n",
        "(\n",
        "ggplot () +\n",
        "  geom_line(df_2k13melt, aes(x=\"Year\", y=\"AGR\", color=\"aes\")) # AES variable set to the merged category column (Solar/Non-Solar)\n",
        "\n",
        " + geom_vline (xintercept=2013, linetype=\"dashed\") # Add Project Date Line\n",
        "\n",
        "    +scale_color_manual(values = {\"No_Solar_AGR\" : \"red\", \"Solar_AGR\" : \"orange\"})  # Define colors\n",
        "\n",
        "+ xlab(\"Year\")\n",
        "  + ylab(\"Annual Growth Rate (Year over Year %)\")\n",
        "    + labs(color = 'Solar Construction')\n",
        "\n",
        "    + ggtitle(\"Difference in Difference - Average AGR for Solar Projects Constructed in 2013, Compared to Non-Solar Proximate Home AGR's\")\n",
        "   + theme(\n",
        "        axis_line=element_line(size=1, colour=\"black\"),\n",
        "        panel_grid_major=element_line(colour=\"#d3d3d3\"),\n",
        "        panel_grid_minor=element_blank(),\n",
        "        panel_border=element_blank(),\n",
        "        panel_background=element_blank(),)\n",
        "    )"
      ],
      "metadata": {
        "id": "rZN-XpeWvgSo"
      },
      "execution_count": null,
      "outputs": []
    },
    {
      "cell_type": "code",
      "source": [
        "#2014\n",
        "(\n",
        "ggplot () +\n",
        "  geom_line(df_2k14melt, aes(x=\"Year\", y=\"AGR\", color=\"aes\")) # AES variable set to the merged category column (Solar/Non-Solar)\n",
        "\n",
        " + geom_vline (xintercept=2014, linetype=\"dashed\") # Add Project Date Line\n",
        "\n",
        "    +scale_color_manual(values = {\"No_Solar_AGR\" : \"red\", \"Solar_AGR\" : \"orange\"})  # Define colors\n",
        "\n",
        "+ xlab(\"Year\")\n",
        "  + ylab(\"Annual Growth Rate (Year over Year %)\")\n",
        "    + labs(color = 'Solar Construction')\n",
        "\n",
        "    + ggtitle(\"Difference in Difference - Average AGR for Solar Projects Constructed in 2014, Compared to Non-Solar Proximate Home AGR's\")\n",
        "   + theme(\n",
        "        axis_line=element_line(size=1, colour=\"black\"),\n",
        "        panel_grid_major=element_line(colour=\"#d3d3d3\"),\n",
        "        panel_grid_minor=element_blank(),\n",
        "        panel_border=element_blank(),\n",
        "        panel_background=element_blank(),)\n",
        "    )"
      ],
      "metadata": {
        "id": "bPwTREF6vjQb"
      },
      "execution_count": null,
      "outputs": []
    },
    {
      "cell_type": "code",
      "source": [
        "#2015\n",
        "(\n",
        "ggplot () +\n",
        "  geom_line(df_2k15melt, aes(x=\"Year\", y=\"AGR\", color=\"aes\")) # AES variable set to the merged category column (Solar/Non-Solar)\n",
        "\n",
        " + geom_vline (xintercept=2015, linetype=\"dashed\") # Add Project Date Line\n",
        "\n",
        "    +scale_color_manual(values = {\"No_Solar_AGR\" : \"red\", \"Solar_AGR\" : \"orange\"})  # Define colors\n",
        "\n",
        "+ xlab(\"Year\")\n",
        "  + ylab(\"Annual Growth Rate (Year over Year %)\")\n",
        "    + labs(color = 'Solar Construction')\n",
        "\n",
        "    + ggtitle(\"Difference in Difference - Average AGR for Solar Projects Constructed in 2015, Compared to Non-Solar Proximate Home AGR's\")\n",
        "   + theme(\n",
        "        axis_line=element_line(size=1, colour=\"black\"),\n",
        "        panel_grid_major=element_line(colour=\"#d3d3d3\"),\n",
        "        panel_grid_minor=element_blank(),\n",
        "        panel_border=element_blank(),\n",
        "        panel_background=element_blank(),)\n",
        "    )"
      ],
      "metadata": {
        "id": "bAuchuFDvnie"
      },
      "execution_count": null,
      "outputs": []
    },
    {
      "cell_type": "code",
      "source": [
        "#2016\n",
        "(\n",
        "ggplot () +\n",
        "  geom_line(df_2k16melt, aes(x=\"Year\", y=\"AGR\", color=\"aes\")) # AES variable set to the merged category column (Solar/Non-Solar)\n",
        "\n",
        " + geom_vline (xintercept=2016, linetype=\"dashed\") # Add Project Date Line\n",
        "\n",
        "    +scale_color_manual(values = {\"No_Solar_AGR\" : \"red\", \"Solar_AGR\" : \"orange\"})  # Define colors\n",
        "\n",
        "+ xlab(\"Year\")\n",
        "  + ylab(\"Annual Growth Rate (Year over Year %)\")\n",
        "    + labs(color = 'Solar Construction')\n",
        "\n",
        "    + ggtitle(\"Difference in Difference - Average AGR for Solar Projects Constructed in 2016, Compared to Non-Solar Proximate Home AGR's\")\n",
        "   + theme(\n",
        "        axis_line=element_line(size=1, colour=\"black\"),\n",
        "        panel_grid_major=element_line(colour=\"#d3d3d3\"),\n",
        "        panel_grid_minor=element_blank(),\n",
        "        panel_border=element_blank(),\n",
        "        panel_background=element_blank(),)\n",
        "    )"
      ],
      "metadata": {
        "id": "gHNmQJPQvokh"
      },
      "execution_count": null,
      "outputs": []
    },
    {
      "cell_type": "code",
      "source": [
        "#2017\n",
        "(\n",
        "ggplot () +\n",
        "  geom_line(df_2k17melt, aes(x=\"Year\", y=\"AGR\", color=\"aes\")) # AES variable set to the merged category column (Solar/Non-Solar)\n",
        "\n",
        " + geom_vline (xintercept=2017, linetype=\"dashed\") # Add Project Date Line\n",
        "\n",
        "    +scale_color_manual(values = {\"No_Solar_AGR\" : \"red\", \"Solar_AGR\" : \"orange\"})  # Define colors\n",
        "\n",
        "+ xlab(\"Year\")\n",
        "  + ylab(\"Annual Growth Rate (Year over Year %)\")\n",
        "    + labs(color = 'Solar Construction')\n",
        "\n",
        "    + ggtitle(\"Difference in Difference - Average AGR for Solar Projects Constructed in 2017, Compared to Non-Solar Proximate Home AGR's\")\n",
        "   + theme(\n",
        "        axis_line=element_line(size=1, colour=\"black\"),\n",
        "        panel_grid_major=element_line(colour=\"#d3d3d3\"),\n",
        "        panel_grid_minor=element_blank(),\n",
        "        panel_border=element_blank(),\n",
        "        panel_background=element_blank(),)\n",
        "    )"
      ],
      "metadata": {
        "id": "Gg_QqHeTvsv_"
      },
      "execution_count": null,
      "outputs": []
    },
    {
      "cell_type": "code",
      "source": [
        "#2018\n",
        "(\n",
        "ggplot () +\n",
        "   geom_line(df_2k18melt, aes(x=\"Year\", y=\"AGR\", color=\"aes\")) # AES variable set to the merged category column (Solar/Non-Solar)\n",
        "\n",
        " + geom_vline (xintercept=2018, linetype=\"dashed\") # Add Project Date Line\n",
        "\n",
        "    +scale_color_manual(values = {\"No_Solar_AGR\" : \"red\", \"Solar_AGR\" : \"orange\"})  # Define colors\n",
        "\n",
        "+ xlab(\"Year\")\n",
        "  + ylab(\"Annual Growth Rate (Year over Year %)\")\n",
        "    + labs(color = 'Solar Construction')\n",
        "\n",
        "    + ggtitle(\"Difference in Difference - Average AGR for Solar Projects Constructed in 2018, Compared to Non-Solar Proximate Home AGR's\")\n",
        "   + theme(\n",
        "        axis_line=element_line(size=1, colour=\"black\"),\n",
        "        panel_grid_major=element_line(colour=\"#d3d3d3\"),\n",
        "        panel_grid_minor=element_blank(),\n",
        "        panel_border=element_blank(),\n",
        "        panel_background=element_blank(),)\n",
        "    )"
      ],
      "metadata": {
        "id": "SEMSQ4Krvvq1"
      },
      "execution_count": null,
      "outputs": []
    },
    {
      "cell_type": "markdown",
      "source": [
        "# Part 8: Conclusion\n",
        "\n",
        "### Is There An Impact On Property Values?\n",
        "In the analysis conducted above, we explored whether the existence of nearby (within 1 mile) utility scale solar impacted property values at the neighborhood level. Overall, we found that there is a neutral to slightly positive impact on the growth of home prices, though the evidence of change is underwhelming. Across 14 years of data in the Box-and-Whisker Plot, there are five years that are statisticaly significant in the change in property values across solar and non-solar adjacent neighborhoods. Moreover, general trends in the Difference-in-Difference plots demonstrated that  property value growth rate changes were not drastically different between solar and non-solar adjacent neighborhoods.\n",
        "\n",
        "### Follow-Up Questions\n",
        "After completing the analysis, we are left with the following questions:\n",
        "*   Does the area/capacity of the utility scale solar impact property values at the neighborhood scale?\n",
        "*   Is there a more pronounced effect in conservative versus progressive leaning areas? Is one political affilitation more critical about utility scale solar than the other?\n",
        "* Would neighborhoods containing larger proportion of each solar developments' viewshed exhibit different CAGR patterns? Currently, we are using Euclidean buffer distances.\n",
        "* What would be the effect of utility scale solar in less urbanized areas?\n",
        "\n",
        "### Furthering the Analysis\n",
        "While our analysis indicates a potential neutral to positive impact, the extent of our analysis is restricted by data assumptions and limitations. One of these is assumptions is that we chose an arbitrary 1 mile buffer around utility scale solar to define neighborhood that are \"close\" versus not close to solar. Moreover, we rely on the neighborhoods found in the Zillow neighborhood data - these tend to be found in metro areas.\n",
        "\n",
        "With these assumptions and limitations in mind, and time-permitting, we would further the analysis by creating multple buffer distances from the utility scale solar (i.e. 1 mile, 5 miles, 10 miles, 15 miles) and determine whether the size of the buffer had any impacts on growth rates. Additionally, we would hope to incorporate a viewshed analysis to determine whether the utility scale solar is visible to the neighborhoods that we are analyzing. Finally, because the Zillow data focuses more on metro-area neighborhoods, we could incorporate neighborhoods located in rural areas into our analysis."
      ],
      "metadata": {
        "id": "eriFt86yvxnN"
      }
    },
    {
      "cell_type": "code",
      "source": [],
      "metadata": {
        "id": "L2estQ9dgod8"
      },
      "execution_count": null,
      "outputs": []
    }
  ],
  "metadata": {
    "colab": {
      "provenance": [],
      "include_colab_link": true
    },
    "kernelspec": {
      "display_name": "Python 3",
      "name": "python3"
    },
    "language_info": {
      "name": "python"
    }
  },
  "nbformat": 4,
  "nbformat_minor": 0
}